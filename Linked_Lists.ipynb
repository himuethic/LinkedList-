{
  "nbformat": 4,
  "nbformat_minor": 0,
  "metadata": {
    "colab": {
      "provenance": [],
      "authorship_tag": "ABX9TyMdkmeeRbQLoorDs5XEbeLc",
      "include_colab_link": true
    },
    "kernelspec": {
      "name": "python3",
      "display_name": "Python 3"
    },
    "language_info": {
      "name": "python"
    }
  },
  "cells": [
    {
      "cell_type": "markdown",
      "metadata": {
        "id": "view-in-github",
        "colab_type": "text"
      },
      "source": [
        "<a href=\"https://colab.research.google.com/github/himuethic/LinkedList-/blob/main/Linked_Lists.ipynb\" target=\"_parent\"><img src=\"https://colab.research.google.com/assets/colab-badge.svg\" alt=\"Open In Colab\"/></a>"
      ]
    },
    {
      "cell_type": "code",
      "execution_count": 1,
      "metadata": {
        "id": "U47KQkrIkQGr"
      },
      "outputs": [],
      "source": [
        "class Node:\n",
        "\n",
        "\n",
        "  def __init__(self,value):\n",
        "   self.data = value\n",
        "   self.next = None"
      ]
    },
    {
      "cell_type": "code",
      "source": [
        "a = Node(1)\n",
        "b = Node(2)\n",
        "c = Node(3)"
      ],
      "metadata": {
        "id": "xHsmQrmkk19-"
      },
      "execution_count": null,
      "outputs": []
    },
    {
      "cell_type": "code",
      "source": [
        "print(c.data)"
      ],
      "metadata": {
        "colab": {
          "base_uri": "https://localhost:8080/"
        },
        "id": "O9NRFUeglNMi",
        "outputId": "0c38753c-e1e4-46a2-ae33-c97cfc5597ee"
      },
      "execution_count": null,
      "outputs": [
        {
          "output_type": "stream",
          "name": "stdout",
          "text": [
            "3\n"
          ]
        }
      ]
    },
    {
      "cell_type": "code",
      "source": [
        "id(c)"
      ],
      "metadata": {
        "colab": {
          "base_uri": "https://localhost:8080/"
        },
        "id": "0yWYCK_MlpWG",
        "outputId": "c349ee41-6c64-45a8-e4eb-8872328bc85c"
      },
      "execution_count": null,
      "outputs": [
        {
          "output_type": "execute_result",
          "data": {
            "text/plain": [
              "132979769938592"
            ]
          },
          "metadata": {},
          "execution_count": 4
        }
      ]
    },
    {
      "cell_type": "code",
      "source": [
        "a.next = b\n",
        "b.next = c"
      ],
      "metadata": {
        "id": "D_kxU4JXmDlG"
      },
      "execution_count": null,
      "outputs": []
    },
    {
      "cell_type": "code",
      "source": [
        "print(a.next)"
      ],
      "metadata": {
        "colab": {
          "base_uri": "https://localhost:8080/"
        },
        "id": "-AZq0H2cmHmY",
        "outputId": "c75bf7d2-3b23-4731-9b6a-ec4bd8b18cb8"
      },
      "execution_count": null,
      "outputs": [
        {
          "output_type": "stream",
          "name": "stdout",
          "text": [
            "<__main__.Node object at 0x78f1c3f31990>\n"
          ]
        }
      ]
    },
    {
      "cell_type": "code",
      "source": [
        "int(0x7c6526e86d70)"
      ],
      "metadata": {
        "colab": {
          "base_uri": "https://localhost:8080/"
        },
        "id": "9h07K1LdmM-E",
        "outputId": "bc7f7513-afac-4431-b8ab-bdd515508065"
      },
      "execution_count": null,
      "outputs": [
        {
          "output_type": "execute_result",
          "data": {
            "text/plain": [
              "136773886307696"
            ]
          },
          "metadata": {},
          "execution_count": 7
        }
      ]
    },
    {
      "cell_type": "code",
      "source": [
        "print(b.next)"
      ],
      "metadata": {
        "colab": {
          "base_uri": "https://localhost:8080/"
        },
        "id": "57bLGC3UmRco",
        "outputId": "66c16785-1b45-4385-c9a7-56bf62d81de8"
      },
      "execution_count": null,
      "outputs": [
        {
          "output_type": "stream",
          "name": "stdout",
          "text": [
            "<__main__.Node object at 0x78f1c3f312a0>\n"
          ]
        }
      ]
    },
    {
      "cell_type": "code",
      "source": [
        "int(0x7c6526e87730)"
      ],
      "metadata": {
        "colab": {
          "base_uri": "https://localhost:8080/"
        },
        "id": "h0FFAQU6mneO",
        "outputId": "d63ccb85-228a-4c51-f218-d5b7194f40ae"
      },
      "execution_count": null,
      "outputs": [
        {
          "output_type": "execute_result",
          "data": {
            "text/plain": [
              "136773886310192"
            ]
          },
          "metadata": {},
          "execution_count": 9
        }
      ]
    },
    {
      "cell_type": "code",
      "source": [
        "print(c.next)"
      ],
      "metadata": {
        "colab": {
          "base_uri": "https://localhost:8080/"
        },
        "id": "2JZ6vKIftjkV",
        "outputId": "5eab7c7c-23bc-46ea-bf12-2a936d0dac0d"
      },
      "execution_count": null,
      "outputs": [
        {
          "output_type": "stream",
          "name": "stdout",
          "text": [
            "None\n"
          ]
        }
      ]
    },
    {
      "cell_type": "code",
      "source": [
        "class Node:\n",
        "\n",
        "\n",
        "  def __init__(self,value):\n",
        "   self.data = value\n",
        "   self.next = None"
      ],
      "metadata": {
        "id": "zKZJNvKToF4i"
      },
      "execution_count": null,
      "outputs": []
    },
    {
      "cell_type": "code",
      "source": [
        "class LinkedList:\n",
        "\n",
        "\n",
        "  def __init__(self):\n",
        "   self.head = None\n",
        "   self.n = 0\n",
        "\n",
        "  def __len__(self):\n",
        "   return self.n\n",
        "\n",
        "  def insert_head(self,value):\n",
        "   new_Node = Node(value)\n",
        "   new_Node.next = self.head\n",
        "   self.head = new_Node\n",
        "   self.n = self.n + 1\n",
        "\n",
        "  def __str__(self):\n",
        "\n",
        "    curr = self.head\n",
        "    result = ''\n",
        "\n",
        "    while curr != None:\n",
        "      result = result + str(curr.data)+'->'\n",
        "      curr = curr.next\n",
        "    return result[:-2]\n",
        "\n",
        "\n",
        "  def append(self,value):\n",
        "   new_node = Node(value)\n",
        "   if self.head == None:\n",
        "      self.head = new_node\n",
        "      self.n = self.n + 1\n",
        "      return\n",
        "\n",
        "   curr = self.head\n",
        "\n",
        "\n",
        "\n",
        "   while curr.next != None:\n",
        "     curr = curr.next\n",
        "   curr.next = new_node\n",
        "   self.n = self.n + 1\n",
        "\n",
        "  def insert_after(self,after,value):\n",
        "\n",
        "   new_node = Node(value)\n",
        "\n",
        "   curr = self.head\n",
        "\n",
        "   while curr != None:\n",
        "    if curr.data == after:\n",
        "      break\n",
        "    curr = curr.next\n",
        "\n",
        "   if curr!= None:\n",
        "     new_node.next = curr.next\n",
        "     curr.next = new_node\n",
        "     self.n = self.n + 1\n",
        "   else:\n",
        "     return 'Item not found'\n",
        "\n",
        "  def clear(self):\n",
        "    self.head = None\n",
        "    self.n = 0\n",
        "\n",
        "  def delete_head(self):\n",
        "     if self.head == None:\n",
        "        return 'Empty list'\n",
        "     self.head = self.head.next\n",
        "\n",
        "  def pop(self):\n",
        "    if self.head == None:\n",
        "      return 'Empty list'\n",
        "\n",
        "    curr = self.head\n",
        "\n",
        "    if curr.next == None:\n",
        "      return self.delete_head()\n",
        "\n",
        "    while curr.next.next != None:\n",
        "      curr = curr.next\n",
        "    curr.next = None\n",
        "    self.n = self.n - 1\n",
        "\n",
        "  def remove(self, value):\n",
        "\n",
        "    if self.head == None:\n",
        "      return 'Empty list'\n",
        "\n",
        "    if self.head.data == None:\n",
        "      return self.delete_head()\n",
        "\n",
        "    curr = self.head\n",
        "\n",
        "    while curr.next!= None:\n",
        "      if curr.next.data == value:\n",
        "        break\n",
        "\n",
        "    curr = curr.next\n",
        "\n",
        "    if curr.next == None:\n",
        "     return 'Not found '\n",
        "    else:\n",
        "      curr.next = curr.next.next\n",
        "\n",
        "  def search(self,item):\n",
        "     curr = self.head\n",
        "     pos = 0\n",
        "\n",
        "     while curr != None:\n",
        "      if curr.data == item:\n",
        "        return pos\n",
        "\n",
        "     return 'Not found'\n",
        "\n",
        "  def __getitem__(self, index):\n",
        "   curr = self.head\n",
        "   pos = 0\n",
        "\n",
        "   while curr!= None:\n",
        "      if pos == index:\n",
        "        return curr.data\n",
        "      curr = curr.next\n",
        "      pos = pos + 1\n",
        "\n",
        "   return 'Index error '"
      ],
      "metadata": {
        "id": "JEteRvDeoGgy"
      },
      "execution_count": 27,
      "outputs": []
    },
    {
      "cell_type": "code",
      "source": [
        "l = LinkedList()"
      ],
      "metadata": {
        "id": "VcXnNjCloWDq"
      },
      "execution_count": 28,
      "outputs": []
    },
    {
      "cell_type": "code",
      "source": [
        "l.insert_head(1)\n",
        "l.insert_head(2)\n",
        "l.insert_head(3)\n",
        "l.insert_head(4)"
      ],
      "metadata": {
        "id": "YAoBdzMVojjl"
      },
      "execution_count": 29,
      "outputs": []
    },
    {
      "cell_type": "code",
      "source": [
        "\n",
        "print(l)"
      ],
      "metadata": {
        "colab": {
          "base_uri": "https://localhost:8080/"
        },
        "id": "Hre6g4JEm-15",
        "outputId": "f95fcd35-acac-48ea-c2a9-34fd23609fb2"
      },
      "execution_count": null,
      "outputs": [
        {
          "output_type": "stream",
          "name": "stdout",
          "text": [
            "4->3->2->1\n"
          ]
        }
      ]
    },
    {
      "cell_type": "code",
      "source": [
        "l.insert_after(8,200)"
      ],
      "metadata": {
        "colab": {
          "base_uri": "https://localhost:8080/",
          "height": 35
        },
        "id": "2gz7K9NtoDhH",
        "outputId": "c74d25f2-c15d-46a5-e5e5-d8a96b254b17"
      },
      "execution_count": null,
      "outputs": [
        {
          "output_type": "execute_result",
          "data": {
            "text/plain": [
              "'Item not found'"
            ],
            "application/vnd.google.colaboratory.intrinsic+json": {
              "type": "string"
            }
          },
          "metadata": {},
          "execution_count": 28
        }
      ]
    },
    {
      "cell_type": "code",
      "source": [
        "l.clear()"
      ],
      "metadata": {
        "id": "ONml2D3jufvD"
      },
      "execution_count": null,
      "outputs": []
    },
    {
      "cell_type": "code",
      "source": [
        "print(l)"
      ],
      "metadata": {
        "colab": {
          "base_uri": "https://localhost:8080/"
        },
        "id": "OLldn9aUz5tI",
        "outputId": "dbcf185e-7335-4b30-a494-72ac1fc8d4a7"
      },
      "execution_count": null,
      "outputs": [
        {
          "output_type": "stream",
          "name": "stdout",
          "text": [
            "4->3->2->1\n"
          ]
        }
      ]
    },
    {
      "cell_type": "code",
      "source": [
        "l.delete_head()"
      ],
      "metadata": {
        "id": "faw4zdFztuHX"
      },
      "execution_count": null,
      "outputs": []
    },
    {
      "cell_type": "code",
      "source": [
        "l.pop()"
      ],
      "metadata": {
        "colab": {
          "base_uri": "https://localhost:8080/",
          "height": 35
        },
        "id": "Ewlom6ekyotw",
        "outputId": "fda11c02-f139-425e-e32a-3be4a9e9bcb7"
      },
      "execution_count": null,
      "outputs": [
        {
          "output_type": "execute_result",
          "data": {
            "text/plain": [
              "'Empty list'"
            ],
            "application/vnd.google.colaboratory.intrinsic+json": {
              "type": "string"
            }
          },
          "metadata": {},
          "execution_count": 109
        }
      ]
    },
    {
      "cell_type": "code",
      "source": [
        "print(l)"
      ],
      "metadata": {
        "colab": {
          "base_uri": "https://localhost:8080/"
        },
        "id": "YJ1ws0w2yqwt",
        "outputId": "0a153c70-3688-4fca-cc2c-2d1a0ff190ac"
      },
      "execution_count": null,
      "outputs": [
        {
          "output_type": "stream",
          "name": "stdout",
          "text": [
            "4->3->2->1\n"
          ]
        }
      ]
    },
    {
      "cell_type": "code",
      "source": [
        "print(l)"
      ],
      "metadata": {
        "colab": {
          "base_uri": "https://localhost:8080/"
        },
        "id": "kH2r249n74lZ",
        "outputId": "2b3c869a-fb1c-4287-ede6-8e45cfbfc578"
      },
      "execution_count": null,
      "outputs": [
        {
          "output_type": "stream",
          "name": "stdout",
          "text": [
            "4->3->1\n"
          ]
        }
      ]
    },
    {
      "cell_type": "code",
      "source": [
        "print(l)"
      ],
      "metadata": {
        "id": "7jFUxh6--m8I",
        "outputId": "b7e98115-6165-47d7-f8eb-573081021e86",
        "colab": {
          "base_uri": "https://localhost:8080/"
        }
      },
      "execution_count": 12,
      "outputs": [
        {
          "output_type": "stream",
          "name": "stdout",
          "text": [
            "4->3->2->1\n"
          ]
        }
      ]
    },
    {
      "cell_type": "code",
      "source": [
        "l[1]"
      ],
      "metadata": {
        "colab": {
          "base_uri": "https://localhost:8080/"
        },
        "id": "YkIBJUul68sM",
        "outputId": "4e6a151f-7934-4c2d-e803-89e50a7a8308"
      },
      "execution_count": 32,
      "outputs": [
        {
          "output_type": "execute_result",
          "data": {
            "text/plain": [
              "3"
            ]
          },
          "metadata": {},
          "execution_count": 32
        }
      ]
    }
  ]
}